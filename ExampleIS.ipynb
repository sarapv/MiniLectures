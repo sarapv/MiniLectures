{
 "cells": [
  {
   "cell_type": "code",
   "execution_count": 1,
   "id": "21f68152",
   "metadata": {},
   "outputs": [],
   "source": [
    "# Import necessary libraries\n",
    "import numpy as np\n",
    "import matplotlib.pyplot as plt\n",
    "from scipy.stats import norm\n",
    "\n",
    "# Seed for reproducibility\n",
    "np.random.seed(42)"
   ]
  },
  {
   "cell_type": "markdown",
   "id": "451d8b81",
   "metadata": {},
   "source": [
    "# Introduction to Monte Carlo and Importance Sampling (IS)\n",
    "\n",
    "In this notebook, we will explore **Importance Sampling (IS)** as a technique to estimate expectations over a probability density function $p(x)$ by sampling from a different, more convenient proposal distribution $ q(x) $.\n",
    "\n",
    "\n",
    "## Goal\n",
    "\n",
    "Our goal is to estimate the expectation of a function $ f(X) $ under $ p(x) $, specifically:\n",
    "$$\n",
    "\\mu = \\mathbb{E}_{p(x)}[f(X)] = \\int f(x) p(x) \\, dx,\n",
    "$$\n",
    "where:\n",
    "- $ x \\in D \\subseteq \\mathbb{R}^d$ is a **random variable** that has a probability density function $p(x)$.\n",
    "- $ p(x) $ is the **target distribution**: the probability distribution we are interested in.\n",
    "- $ f(x)$ is the **function of interest**. \n",
    "\n",
    "\n",
    "\n",
    "\n"
   ]
  },
  {
   "cell_type": "markdown",
   "id": "25fd1962",
   "metadata": {},
   "source": [
    "## Simple or crude Monte Carlo\n",
    "\n",
    "When $p(x)$ is complex or high-dimensional, the previous integral cannot be computed in closed-form. Then we need to approximate its value.\n",
    "\n",
    "The simplest solution is to use **Monte Carlo**:\n",
    "$$\n",
    "\\widehat{\\mu}_{MC} = \\frac{1}{N} \\sum_{i=1}^N f(X^i)\n",
    "$$\n",
    "where $X^i \\sim p(x)$ are independent and identically distributed (i.i.d.) samples\n",
    "\n",
    "\n",
    "### Challenges\n",
    "\n",
    "Disadvantages of MC:\n",
    "- **Computational cost**: Requires a **large number of samples** for accurate results.\n",
    "- **Sampling issues**: Inefficient or problematic when sampling from $p(x)$ is either  \n",
    "    - impossible: $p(x)$ is **too complex or unknown** (e.g., complex high-dimensional distributions)\n",
    "    - or just inefficient: **rare event estimation** or distributions with high variance can lead to very few relevant samples, slowing convergence.\n"
   ]
  },
  {
   "cell_type": "markdown",
   "id": "df1cabed",
   "metadata": {},
   "source": [
    "## Importance Sampling\n",
    "Since it may be inefficient to sample directly from $ p(x) $, we use **Importance Sampling** by introducing a proposal distribution $ q(x) $, from which it is easier to sample.\n",
    "\n",
    "Using Importance Sampling, the expectation can be rewritten as:\n",
    "$$\n",
    "\\mathbb{E}_{p(x)}[f(X)] = \\int f(x) \\frac{p(x)}{q(x)} q(x) \\, dx = \\mathbb{E}_{q(x)} \\left[ f(X) \\frac{p(X)}{q(X)} \\right]\n",
    "$$\n",
    "\n",
    "This leads to the **IS estimator**:\n",
    "$$\n",
    "\\widehat{\\mu}_{IS} = \\frac{1}{N} \\sum_{i=1}^N f(X_i) \\frac{p(X_i)}{q(X_i)}\n",
    "$$\n",
    "where $ X_i \\sim q(x) $ are i.i.d. samples from the proposal distribution.\n",
    "\n",
    "\n",
    "Importance Sampling is particularly useful when:\n",
    "1. **Direct sampling from** $ p(x)$ **is difficult**.\n",
    "2. **Events of interest** under $ p(x)$ are rare, making direct Monte Carlo inefficient.\n"
   ]
  },
  {
   "cell_type": "markdown",
   "id": "561f5597",
   "metadata": {},
   "source": [
    "## Example: Rare Event\n",
    "For $p(x) = \\mathcal{N}(0,1)$, we want to compute $\\mathbb{P}[X > 3]$. \n",
    "\n",
    "Thus, we define the function $ f(x) $ to be an indicator function for the event $X > 3$:\n",
    "$$\n",
    "f(x) = \\mathbb{I}(X > 3),\n",
    "$$\n",
    "and we aim at computing\n",
    "$$\n",
    "\\mathbb{P}[X > 3]= \\mathbb{E}_{p(x)}[\\mathbb{I}(X > 3)] = \\int {\\mathbb{I}(X > 3)} p(x) dx.\n",
    "$$\n",
    "\n",
    "- Note that this example has a closed-form solution. So we will compute the analytical solution, the Monte Carlo estimator and the importance sampling estimator.\n"
   ]
  },
  {
   "cell_type": "code",
   "execution_count": 2,
   "id": "deb60145",
   "metadata": {},
   "outputs": [],
   "source": [
    "# Define target distribution p(x) = N(0, 1)\n",
    "mu_p = 0\n",
    "sigma_p = 1\n",
    "\n",
    "# Define the function we want to compute the expectation of (e.g., indicator function)\n",
    "def f(x):\n",
    "    return (x > 3).astype(float)  # Indicator function for a \"rare event\" where X > 3"
   ]
  },
  {
   "cell_type": "markdown",
   "id": "447bc49b",
   "metadata": {},
   "source": [
    "### Closed-Form Solution\n",
    "\n",
    "To verify the accuracy of our estimations, let's compute the **closed-form solution** for the expectation:\n",
    "\n",
    "$$\n",
    "\\mathbb{E}_{p(x)}[\\mathbb{I}(X > 3)] = \\mathbb{P}(X > 3) = \\int_{3}^{\\infty} p(x) \\, dx\n",
    "$$\n",
    "\n",
    "Since our target distribution $ p(x) $ is $ \\mathcal{N}(0, 1) $, we can compute this probability directly using the cumulative distribution function (CDF) of the normal distribution.\n"
   ]
  },
  {
   "cell_type": "code",
   "execution_count": 3,
   "id": "ee3e3e15",
   "metadata": {},
   "outputs": [
    {
     "name": "stdout",
     "output_type": "stream",
     "text": [
      "Closed-Form Solution for P(X > 3): 0.0013498980316301035\n"
     ]
    }
   ],
   "source": [
    "# Closed-form probability of X > 3 under p(x) = N(0, 1)\n",
    "closed_form_solution = 1 - norm.cdf(3, loc=mu_p, scale=sigma_p)\n",
    "print(f\"Closed-Form Solution for P(X > 3): {closed_form_solution}\")\n"
   ]
  },
  {
   "cell_type": "markdown",
   "id": "f54aa476",
   "metadata": {},
   "source": [
    "### Monte Carlo (MC) Estimation\n",
    "\n",
    "Using direct Monte Carlo (MC), we can approximate the expectation by sampling directly from $ p(x) = \\mathcal{N}(0, 1) $:\n",
    "\n",
    "$$\n",
    "\\widehat{\\mu}_{MC} = \\frac{1}{N} \\sum_{i=1}^N \\mathbb{I}(X_i > 3)\n",
    "$$\n",
    "\n",
    "where $ X_i \\sim p(x) $. This estimate converges to the true expectation as $ N $ increases.\n"
   ]
  },
  {
   "cell_type": "code",
   "execution_count": 4,
   "id": "7ea992c1",
   "metadata": {},
   "outputs": [
    {
     "name": "stdout",
     "output_type": "stream",
     "text": [
      "Monte Carlo Estimate of P(X > 3): 0.0015\n"
     ]
    }
   ],
   "source": [
    "# Number of samples\n",
    "N = 10000\n",
    "\n",
    "# Draw samples from the target distribution p(x) = N(0, 1)\n",
    "samples_p = np.random.normal(mu_p, sigma_p, N)\n",
    "\n",
    "# Monte Carlo estimate for E[f(X)] with f(X) = I(X > 3)\n",
    "mc_estimate = np.mean(f(samples_p))\n",
    "print(f\"Monte Carlo Estimate of P(X > 3): {mc_estimate}\")\n"
   ]
  },
  {
   "cell_type": "markdown",
   "id": "2eecd9bb",
   "metadata": {},
   "source": [
    "### Importance Sampling (IS) Estimation\n",
    "\n",
    "To improve sampling efficiency, we use **Importance Sampling (IS)** with a proposal distribution $ q(x) = \\mathcal{N}(3, 1) $. The IS estimator is given by:\n",
    "\n",
    "$$\n",
    "\\widehat{\\mu}_{IS} = \\frac{1}{N} \\sum_{i=1}^N \\mathbb{I}(X_i > 3) \\frac{p(X_i)}{q(X_i)}\n",
    "$$\n",
    "\n",
    "where $ X_i \\sim q(x) $ are samples from the proposal distribution, and $ w(X_i) = \\frac{p(X_i)}{q(X_i)} $ are the corresponding **importance weights**.\n"
   ]
  },
  {
   "cell_type": "code",
   "execution_count": 5,
   "id": "e58b99e9",
   "metadata": {},
   "outputs": [
    {
     "name": "stdout",
     "output_type": "stream",
     "text": [
      "Importance Sampling Estimate of P(X > 3): 0.001438987396178083\n"
     ]
    }
   ],
   "source": [
    "# Proposal distribution q(x) = N(3, 1)\n",
    "mu_q = 3\n",
    "sigma_q = 1\n",
    "\n",
    "# Draw samples from the proposal distribution q(x) = N(3, 1)\n",
    "samples_q = np.random.normal(mu_q, sigma_q, N)\n",
    "\n",
    "# Evaluate target and proposal densities at the sample points\n",
    "p_x = norm.pdf(samples_q, mu_p, sigma_p)  # Target density p(x) at samples\n",
    "q_x = norm.pdf(samples_q, mu_q, sigma_q)  # Proposal density q(x) at samples\n",
    "\n",
    "# Calculate IS weights\n",
    "weights = p_x / q_x\n",
    "\n",
    "# Importance Sampling estimate for E[f(X)] with f(X) = I(X > 3)\n",
    "is_estimate = np.sum(weights * f(samples_q)) / np.sum(weights)\n",
    "print(f\"Importance Sampling Estimate of P(X > 3): {is_estimate}\")\n"
   ]
  },
  {
   "cell_type": "markdown",
   "id": "633c59cd",
   "metadata": {},
   "source": [
    "## Variance/Error of the Estimators\n",
    "\n",
    "The variance of each estimator gives us a measure of uncertainty in the approximation.\n",
    "\n",
    "1. **Closed-Form Solution**: Since it is an exact calculation, there is no variance.\n",
    "\n",
    "2. **Monte Carlo (MC) Variance**: For the Monte Carlo estimator, the variance is given by:\n",
    "   $$\n",
    "   \\text{Var}(\\widehat{\\mu}_{MC}) = \\frac{\\text{Var}_{p(x)}(f(X))}{N}\n",
    "   $$\n",
    "   where $ f(X) = \\mathbb{I}(X > 3) $ and $ X \\sim p(x) $. This variance depends on the variability of $ f(X) $ under the target distribution $ p(x) $ and decreases as $ N $ (number of samples) increases.\n",
    "\n",
    "3. **Importance Sampling (IS) Variance**: For the IS estimator, the variance is given by:\n",
    "   $$\n",
    "   \\text{Var}(\\widehat{\\mu}_{IS}) = \\frac{\\text{Var}_{q(x)}\\left(f(X) \\cdot w(X)\\right)}{N}\n",
    "   $$\n",
    "   where $ w(X) = \\frac{p(X)}{q(X)} $ are the importance weights. This variance also decreases as $ N $ increases, but it depends on both the function $ f(X) $ and the choice of proposal distribution $ q(x) $.\n",
    "   \n",
    "We will compute these variances for the Monte Carlo and Importance Sampling estimators.\n"
   ]
  },
  {
   "cell_type": "code",
   "execution_count": 6,
   "id": "f2ae31fc",
   "metadata": {},
   "outputs": [
    {
     "name": "stdout",
     "output_type": "stream",
     "text": [
      "Variance of the Monte Carlo Estimator: 1.49775e-07\n",
      "Variance of the Importance Sampling Estimator: 6.522336708215712e-10\n"
     ]
    }
   ],
   "source": [
    "# Variance of the Monte Carlo estimator\n",
    "var_mc = np.var(f(samples_p)) / N\n",
    "\n",
    "# Variance of the Importance Sampling estimator\n",
    "var_is = np.var(weights * f(samples_q)) / N\n",
    "\n",
    "print(f\"Variance of the Monte Carlo Estimator: {var_mc}\")\n",
    "print(f\"Variance of the Importance Sampling Estimator: {var_is}\")\n"
   ]
  },
  {
   "cell_type": "markdown",
   "id": "9f6741fa",
   "metadata": {},
   "source": [
    "### Summary:\n",
    "- **Closed-Form Solution** is exact.\n",
    "- **MC Estimator** is unbiased but can have high variance in rare event scenarios.\n",
    "- **IS Estimator** can be more efficient with reduced variance if $ q(x) $ is chosen appropriately. \n",
    "\n",
    "In this example, we can see that for $N=1000$ $\\widehat{\\mu}_{IS}$ is way closer to the actual value of $\\mu$ (the closed-form solution), and the variance/error of the IS estimator is about 2 or 3 orders of magnitude lower than the MC one. \n",
    "\n",
    "For higher values of $N$ the estimators should get even closer to the closed-form solution and the variance/error should be reduced as well. The opposite happens when we reduce $N$.\n"
   ]
  },
  {
   "cell_type": "code",
   "execution_count": 7,
   "id": "092f2c64",
   "metadata": {},
   "outputs": [
    {
     "name": "stdout",
     "output_type": "stream",
     "text": [
      "Closed-Form Solution for P(X > 3): 0.0013498980316301035\n",
      "\n",
      "MC Estimate of P(X > 3): 0.0015\n",
      "IS Estimate of P(X > 3): 0.001438987396178083\n",
      "\n",
      "Variance of the MC Estimator: 1.49775e-07\n",
      "Variance of the IS Estimator: 6.522336708215712e-10\n"
     ]
    }
   ],
   "source": [
    "# Display the results of each method\n",
    "\n",
    "# Closed-form solution\n",
    "print(f\"Closed-Form Solution for P(X > 3): {closed_form_solution}\\n\")\n",
    "\n",
    "# Estimators\n",
    "print(f\"MC Estimate of P(X > 3): {mc_estimate}\")\n",
    "print(f\"IS Estimate of P(X > 3): {is_estimate}\\n\")\n",
    "\n",
    "# Error/variance of the estimators\n",
    "print(f\"Variance of the MC Estimator: {var_mc}\")\n",
    "print(f\"Variance of the IS Estimator: {var_is}\")\n"
   ]
  },
  {
   "cell_type": "code",
   "execution_count": 8,
   "id": "7be2f9a2",
   "metadata": {},
   "outputs": [
    {
     "data": {
      "image/png": "[encoded data removed]",
      "text/plain": [
       "<Figure size 800x400 with 1 Axes>"
      ]
     },
     "metadata": {},
     "output_type": "display_data"
    }
   ],
   "source": [
    "## Step 5: Plotting target, proposal and samples obtained\n",
    "\n",
    "# Plot the distributions and samples\n",
    "x = np.linspace(-5, 10, 500)\n",
    "p_x_vals = norm.pdf(x, mu_p, sigma_p)\n",
    "q_x_vals = norm.pdf(x, mu_q, sigma_q)\n",
    "\n",
    "# Plot target and proposal distributions\n",
    "plt.figure(figsize=(8, 4))\n",
    "plt.plot(x, p_x_vals, label=r\"$p(x)$ (Target)\", color=\"blue\")\n",
    "plt.plot(x, q_x_vals, label=r\"$q(x)$ (Proposal)\", color=\"orange\")\n",
    "\n",
    "# Plot samples from q(x) where X > 3\n",
    "samples_q_greater_than_3 = samples_q[samples_q > 3]\n",
    "val_samples_q_greater_than_3 = norm.pdf(samples_q_greater_than_3, mu_q, sigma_q)\n",
    "plt.scatter(samples_q_greater_than_3, val_samples_q_greater_than_3, \n",
    "            color=\"red\", marker=\"o\", s=50, label=\"Samples from $q(x)$ (X > 3)\")\n",
    "\n",
    "# Plot samples from p(x) where X > 3\n",
    "samples_p_greater_than_3 = samples_p[samples_p > 3]\n",
    "val_samples_p_greater_than_3 = norm.pdf(samples_p_greater_than_3, mu_p, sigma_p)\n",
    "plt.scatter(samples_p_greater_than_3, val_samples_p_greater_than_3, \n",
    "            color=\"green\", marker=\"o\", s=50, label=\"Samples from $p(x)$ (X > 3)\", alpha=0.6)\n",
    "\n",
    "# Labels and legend\n",
    "plt.xlabel(\"x\")\n",
    "plt.ylabel(\"Density\")\n",
    "plt.title(\"Target and Proposal Distributions with Samples (X > 3)\")\n",
    "plt.legend()\n",
    "plt.show()"
   ]
  },
  {
   "cell_type": "code",
   "execution_count": null,
   "id": "8a318c9b",
   "metadata": {},
   "outputs": [],
   "source": []
  }
 ],
 "metadata": {
  "kernelspec": {
   "display_name": "Python 3 (ipykernel)",
   "language": "python",
   "name": "python3"
  },
  "language_info": {
   "codemirror_mode": {
    "name": "ipython",
    "version": 3
   },
   "file_extension": ".py",
   "mimetype": "text/x-python",
   "name": "python",
   "nbconvert_exporter": "python",
   "pygments_lexer": "ipython3",
   "version": "3.11.5"
  }
 },
 "nbformat": 4,
 "nbformat_minor": 5
}
